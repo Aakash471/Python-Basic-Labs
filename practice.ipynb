{
 "cells": [
  {
   "cell_type": "code",
   "execution_count": 64,
   "id": "23ca6edd-4cb5-4c46-b259-b039b7b34f38",
   "metadata": {},
   "outputs": [
    {
     "name": "stdout",
     "output_type": "stream",
     "text": [
      "2.0\n",
      "<class 'float'>\n",
      "2\n",
      "<class 'str'>\n"
     ]
    }
   ],
   "source": [
    "var = int(2)\n",
    "f = float(var)\n",
    "print(f)\n",
    "print(type(f))\n",
    "s = str(var)\n",
    "print(s)\n",
    "print(type(s))\n",
    "\n",
    "\n"
   ]
  },
  {
   "cell_type": "code",
   "execution_count": 2,
   "id": "b100f89a-ea5b-4d2f-9109-aaeb3db909c5",
   "metadata": {},
   "outputs": [
    {
     "name": "stdout",
     "output_type": "stream",
     "text": [
      "8.166666666666666\n",
      "0\n",
      "0\n",
      "0\n"
     ]
    }
   ],
   "source": [
    "x = 7*(3+8-4)/6   #Arithmetic Operators\n",
    "print(x)\n",
    "y = int(x) % 2\n",
    "print(y)\n",
    "z = y ** 3\n",
    "print(z)\n",
    "k = z // 3\n",
    "print(k)"
   ]
  },
  {
   "cell_type": "code",
   "execution_count": 66,
   "id": "4b79bf59-f902-4cbb-b122-345a8a2c08f9",
   "metadata": {},
   "outputs": [
    {
     "name": "stdout",
     "output_type": "stream",
     "text": [
      "5\n",
      "8\n",
      "5\n",
      "15\n",
      "5.0\n",
      "2.0\n",
      "2\n",
      "8\n"
     ]
    }
   ],
   "source": [
    "x = 5        #Assignment Operators\n",
    "print(x)\n",
    "x +=3\n",
    "print(x)\n",
    "x -=3\n",
    "print(x)\n",
    "x *=3\n",
    "print(x)\n",
    "x /=3\n",
    "print(x)\n",
    "x %=3\n",
    "print(x)\n",
    "x = 8\n",
    "x //=3\n",
    "print(x)\n",
    "x **=3\n",
    "print(x)\n",
    "\n"
   ]
  },
  {
   "cell_type": "code",
   "execution_count": 67,
   "id": "766a3d8f-b564-492f-97a8-0a5412cb1c0b",
   "metadata": {},
   "outputs": [
    {
     "data": {
      "text/plain": [
       "True"
      ]
     },
     "execution_count": 67,
     "metadata": {},
     "output_type": "execute_result"
    }
   ],
   "source": [
    "2 == 3    #Comparision Operators\n",
    "2!=3\n",
    "2>3\n",
    "2<3\n",
    "2>=3\n",
    "2<=3\n",
    "2<=2"
   ]
  },
  {
   "cell_type": "code",
   "execution_count": 88,
   "id": "5ec6f50c-1fa2-47db-926e-be4da476335d",
   "metadata": {},
   "outputs": [
    {
     "name": "stdout",
     "output_type": "stream",
     "text": [
      "{}\n"
     ]
    },
    {
     "data": {
      "text/plain": [
       "'hello'"
      ]
     },
     "execution_count": 88,
     "metadata": {},
     "output_type": "execute_result"
    }
   ],
   "source": [
    "a =2           #Logical Operators\n",
    "b=3\n",
    "a>2 and b <3 # false and false = false\n",
    "a>3 and b==3 # false and true = false\n",
    "a ==2 and b<=3 # true and true =false\n",
    "a ==2 or b<3 # true and false = false\n",
    "a==3 or b==3 # false or true = true\n",
    "a <1 or b >4 #true or false = true\n",
    "a < 3 or b >4 # true or false =false\n",
    "a ==2 or b<4 # true or true =true\n",
    "not a > b\n",
    "not a ==b\n",
    "not a<3\n",
    "False and g\n",
    "'' and v\n",
    "[] and v\n",
    "c = {} and v\n",
    "print (c)\n",
    "True or f\n",
    "'hello' or n\n",
    "\n"
   ]
  },
  {
   "cell_type": "code",
   "execution_count": 1,
   "id": "ed03c20f-90d1-4f1e-bec0-ca141ba2ac58",
   "metadata": {},
   "outputs": [
    {
     "data": {
      "text/plain": [
       "0"
      ]
     },
     "execution_count": 1,
     "metadata": {},
     "output_type": "execute_result"
    }
   ],
   "source": [
    "x ='bb'          #Identity operators\n",
    "type(x) is str\n",
    "type(x) is not int\n",
    "type (x) is float\n",
    "h =0\n",
    "x == 'aa' and h\n",
    "x == 'bb' and h\n"
   ]
  },
  {
   "cell_type": "code",
   "execution_count": 8,
   "id": "25eec0bd-6e50-4a2d-948c-d2f9cfc3d495",
   "metadata": {},
   "outputs": [
    {
     "data": {
      "text/plain": [
       "True"
      ]
     },
     "execution_count": 8,
     "metadata": {},
     "output_type": "execute_result"
    }
   ],
   "source": [
    "#Membership Operators\n",
    "'h' in 'hello'\n",
    "'ell' in 'hello'\n",
    "'m' in 'hello'\n",
    "'m' not in 'hello'\n"
   ]
  },
  {
   "cell_type": "code",
   "execution_count": 10,
   "id": "27dd0451-7c46-49de-b789-b2714c275cb2",
   "metadata": {},
   "outputs": [
    {
     "data": {
      "text/plain": [
       "2"
      ]
     },
     "execution_count": 10,
     "metadata": {},
     "output_type": "execute_result"
    }
   ],
   "source": [
    "#Bitwise Operators\n",
    "2 & 3\n",
    "\n"
   ]
  },
  {
   "cell_type": "code",
   "execution_count": 3,
   "id": "f048cdde-639e-4c64-8313-7fc4baa5000d",
   "metadata": {},
   "outputs": [
    {
     "name": "stdout",
     "output_type": "stream",
     "text": [
      "8\n",
      "[1, 3.8, 'Hello', True]\n",
      "4\n",
      "juy\n",
      "Ram\n",
      "['Shyam', 7, 8]\n",
      "['Shyam', 7, 8, 97, 78, 5, 'juy']\n",
      "['Ram', 'btr', 7, 8, 97, 78, 5, 'juy']\n",
      "['Ram', 'btr', 7, 8, 97, 78, 3, 'ty', 'oi']\n",
      "['Ram', 'fsdd', 'as', 8, 97, 78, 3, 'ty', 'oi']\n",
      "<class 'list'>\n"
     ]
    }
   ],
   "source": [
    "#LIST\n",
    "ad = ['Ram','Shyam',7,8,97,78,5,'juy']\n",
    "print(len(ad))\n",
    "cy = [1,3.8,'Hello',True]\n",
    "print(cy)\n",
    "print(len(cy)) #length of list cy\n",
    "print(ad[-1])  #last item of list\n",
    "print(ad[0])     #first item of list\n",
    "print(ad[1:4])  #accessing 2nd item to 4th item of list ,5th item i.e [4] will be excluded\n",
    "print(ad[1:])  #accessing 2nd item to last item of list\n",
    "2 in ad        #using membership operator in list\n",
    "2 not in ad    #using membership operator (not in ) in list\n",
    "ad[1] = 'btr'   #changing 2nd item of list \n",
    "print(ad)\n",
    "ad[6:9]=3,'ty','oi' #changing 7th item of list to 9th item of list ,10th item excluded\n",
    "print(ad)\n",
    "ad[1:3]=\"fsdd\",\"as\" #changing 2nd item of list to 4th item of list,5th item excluded\n",
    "print(ad)\n",
    "print(type(ad)) # type of data printed"
   ]
  },
  {
   "cell_type": "code",
   "execution_count": 8,
   "id": "47070a76-80dd-41f4-b0d4-dac65e246d90",
   "metadata": {},
   "outputs": [],
   "source": [
    "#Insert items in list"
   ]
  },
  {
   "cell_type": "code",
   "execution_count": 13,
   "id": "371c5957-4143-4961-97dc-6876960fdbc0",
   "metadata": {},
   "outputs": [
    {
     "data": {
      "text/plain": [
       "[1, 'inserted', 2, 3]"
      ]
     },
     "execution_count": 13,
     "metadata": {},
     "output_type": "execute_result"
    }
   ],
   "source": [
    "my_list=[1,2,3]\n",
    "my_list.insert(1,\"inserted\") #insert will not replace original items\n",
    "my_list"
   ]
  },
  {
   "cell_type": "code",
   "execution_count": 14,
   "id": "65bf74b7-7df4-4dcb-85d3-7fd0a32fce92",
   "metadata": {},
   "outputs": [],
   "source": [
    "#Add List items"
   ]
  },
  {
   "cell_type": "code",
   "execution_count": 16,
   "id": "ab3e0e5b-dbb5-4154-91cf-f05999e9c9c7",
   "metadata": {},
   "outputs": [
    {
     "name": "stdout",
     "output_type": "stream",
     "text": [
      "[1, 2, 3, 4]\n"
     ]
    }
   ],
   "source": [
    "my_list=[1,2,3]\n",
    "my_list.append(4)  #append will add item at the last of list\n",
    "print(my_list)"
   ]
  },
  {
   "cell_type": "code",
   "execution_count": 17,
   "id": "fdda9130-d18d-4d30-8cc3-f70f1757f858",
   "metadata": {},
   "outputs": [
    {
     "name": "stdout",
     "output_type": "stream",
     "text": [
      "[1, 2, 3, 4, 6, 7]\n"
     ]
    }
   ],
   "source": [
    "another_list=[6,7]\n",
    "my_list.extend(another_list)  #extend will add another list to existing list\n",
    "print(my_list)"
   ]
  },
  {
   "cell_type": "code",
   "execution_count": 20,
   "id": "b73f7299-a602-407a-8aa9-7065df8edc8f",
   "metadata": {},
   "outputs": [
    {
     "name": "stdout",
     "output_type": "stream",
     "text": [
      "[1, 2, 3, 4, 5]\n",
      "[1, 3, 4, 5]\n"
     ]
    }
   ],
   "source": [
    "my_list=[1,2,2,3,4,5]\n",
    "my_list.remove(2)   #remove can remove duplicates,but only first\n",
    "print(my_list)  \n",
    "my_list.remove(2)   #remove will remove second duplicates\n",
    "print(my_list)"
   ]
  },
  {
   "cell_type": "code",
   "execution_count": 22,
   "id": "76d80335-5cf8-4416-8cef-d96b85b9efe4",
   "metadata": {},
   "outputs": [
    {
     "name": "stdout",
     "output_type": "stream",
     "text": [
      "[2, 4, 6]\n",
      "[2, 4]\n"
     ]
    }
   ],
   "source": [
    "my_list=[2,4,5,6]\n",
    "my_list.pop(2)  #pop with arguement 2 will remove 3rd item of list\n",
    "print(my_list)\n",
    "my_list.pop()   #pop with no arguemnet will ill remove last item of list\n",
    "print(my_list)"
   ]
  },
  {
   "cell_type": "code",
   "execution_count": 25,
   "id": "326d4c0e-4ba7-442d-a7e9-a152bcc4d93a",
   "metadata": {},
   "outputs": [
    {
     "ename": "NameError",
     "evalue": "name 'num_list' is not defined",
     "output_type": "error",
     "traceback": [
      "\u001b[1;31m---------------------------------------------------------------------------\u001b[0m",
      "\u001b[1;31mNameError\u001b[0m                                 Traceback (most recent call last)",
      "Cell \u001b[1;32mIn[25], line 6\u001b[0m\n\u001b[0;32m      4\u001b[0m num_list\u001b[38;5;241m=\u001b[39m[\u001b[38;5;241m4\u001b[39m,\u001b[38;5;241m5\u001b[39m,\u001b[38;5;241m6\u001b[39m]\n\u001b[0;32m      5\u001b[0m \u001b[38;5;28;01mdel\u001b[39;00m num_list \u001b[38;5;66;03m#del can also delete entire list\u001b[39;00m\n\u001b[1;32m----> 6\u001b[0m \u001b[43mnum_list\u001b[49m\n",
      "\u001b[1;31mNameError\u001b[0m: name 'num_list' is not defined"
     ]
    }
   ],
   "source": [
    "my_list=[1,2,3]\n",
    "del my_list[2] #del also deletes specified index item list\n",
    "my_list\n",
    "num_list=[4,5,6]\n",
    "del num_list #del can also delete entire list\n",
    "num_list"
   ]
  },
  {
   "cell_type": "code",
   "execution_count": 27,
   "id": "312f3c60-692e-4519-9df0-33bd153e8fd2",
   "metadata": {},
   "outputs": [
    {
     "data": {
      "text/plain": [
       "[]"
      ]
     },
     "execution_count": 27,
     "metadata": {},
     "output_type": "execute_result"
    }
   ],
   "source": [
    "y_list =[5,6,7]\n",
    "my_list.clear()  #clear will delete all items of list \n",
    "my_list"
   ]
  },
  {
   "cell_type": "code",
   "execution_count": 50,
   "id": "cfa0a55a-9784-4527-bc58-9290e2db5750",
   "metadata": {},
   "outputs": [
    {
     "data": {
      "text/plain": [
       "['Hi', ' There', 1, 2, 3]"
      ]
     },
     "execution_count": 50,
     "metadata": {},
     "output_type": "execute_result"
    }
   ],
   "source": [
    "months_list=['Jan', 'Feb', 'Mar', 'Apr']\n",
    "months_list.sort()      #sort will arrange strings alphabetically\n",
    "months_list\n",
    "years_list=[1999,2023,1991,2022]\n",
    "years_list.sort  #sort will arrange integers in ascending order\n",
    "years_list\n",
    "years_list.sort(reverse=True)  #sort(reverse=True) will arrange integers in descending order\n",
    "years_list\n",
    "cities_list=['Kathmandu','Chicago',' France','London','brazil']\n",
    "cities_list.sort() #sort() will arrange strings where capital words starting string will come first\n",
    "cities_list\n",
    "cities_list.sort(key=str.lower) #sort(key=str.lower) will sort strings alphabetically regardless words starting with capital letters\n",
    "cities_list\n",
    "num_list=[5,4,3,2,1]\n",
    "num_list.reverse() #reverse() will arrange strings or integers in reverse order\n",
    "num_list\n",
    "list_1=[1,2,3]\n",
    "list_2=list_1.copy() #copy() will copy list_1 to list_2\n",
    "list_2\n",
    "list_3=[3,4,5]\n",
    "list_4=list(list_3) #list() will copy list_3 to list_4\n",
    "list_4\n",
    "list_5=list_1+list_2+list_3+list_4 #using + operator all lists are joined\n",
    "list_5\n",
    "list_6=[1,2,3]\n",
    "list_7=['Hi',' There']\n",
    "list_7.extend(list_6) #extend() method will add list_6 to end of list_7\n",
    "list_7\n"
   ]
  },
  {
   "cell_type": "code",
   "execution_count": 53,
   "id": "ca004c36-fa6e-4059-8706-7f38c6fcdba0",
   "metadata": {},
   "outputs": [],
   "source": [
    "#Python Conditionals"
   ]
  },
  {
   "cell_type": "code",
   "execution_count": 64,
   "id": "d7969418-946c-47e0-bab5-b51f031e5d50",
   "metadata": {},
   "outputs": [
    {
     "name": "stdout",
     "output_type": "stream",
     "text": [
      "x is greater than 6 \n"
     ]
    }
   ],
   "source": [
    "#if statement\n",
    "x=7\n",
    "if x>6:\n",
    "    print(\"x is greater than 6 \")"
   ]
  },
  {
   "cell_type": "code",
   "execution_count": 69,
   "id": "e34977ea-f351-477c-85e3-040040935dbf",
   "metadata": {},
   "outputs": [
    {
     "name": "stdout",
     "output_type": "stream",
     "text": [
      "y is eual to 9\n"
     ]
    }
   ],
   "source": [
    "#if statement\n",
    "y=9\n",
    "if y==9:\n",
    "    print(\"y is eual to 9\")"
   ]
  },
  {
   "cell_type": "code",
   "execution_count": 72,
   "id": "4c65fd2f-14e0-4693-ac6c-2c33632f12f2",
   "metadata": {},
   "outputs": [
    {
     "name": "stdout",
     "output_type": "stream",
     "text": [
      "x is greater than 1\n"
     ]
    }
   ],
   "source": [
    "#elif keyword\n",
    "x=2\n",
    "if x>5:\n",
    "    print('x is greater than 5')\n",
    "elif x>3:\n",
    "    print('x is grater than 3')\n",
    "elif x >1:\n",
    "    print('x is greater than 1')"
   ]
  },
  {
   "cell_type": "code",
   "execution_count": 2,
   "id": "eba80485-6a0a-4570-930c-b573ba9f5cec",
   "metadata": {},
   "outputs": [
    {
     "name": "stdout",
     "output_type": "stream",
     "text": [
      "x is equal to 1\n",
      "x is greater than 10\n"
     ]
    }
   ],
   "source": [
    "#else keyword\n",
    "x =1\n",
    "if x>5:\n",
    "    print('x is greater than 6')\n",
    "elif x>3:\n",
    "    print('x is greater than 3')\n",
    "else:\n",
    "    print('x is equal to 1')\n",
    "x=32\n",
    "if x >10:\n",
    "    print(\"x is greater than 10\")\n",
    "elif x>30:\n",
    "    print(\"x is less than 34\")\n",
    "    \n",
    "    "
   ]
  },
  {
   "cell_type": "code",
   "execution_count": 76,
   "id": "aafc8f2b-3ce3-4ab2-bc67-70bc552dd32a",
   "metadata": {},
   "outputs": [
    {
     "name": "stdout",
     "output_type": "stream",
     "text": [
      "x is equal to 3\n"
     ]
    }
   ],
   "source": [
    "#short-hand if\n",
    "x =3\n",
    "if x==3: print('x is equal to 3') #short-hand if (if statement and print function in one line)"
   ]
  },
  {
   "cell_type": "code",
   "execution_count": 78,
   "id": "71d72d6a-0fa3-4a0b-8819-4ffafd7b0ec9",
   "metadata": {},
   "outputs": [
    {
     "name": "stdout",
     "output_type": "stream",
     "text": [
      "x is equal to 2\n"
     ]
    }
   ],
   "source": [
    "#short-hand if-elif\n",
    "x=2\n",
    "print('x is equal to 2') if x==2 else print('x is not equal to 2')"
   ]
  },
  {
   "cell_type": "code",
   "execution_count": 3,
   "id": "b7548067-c988-44cf-b0ad-a5686adefe4c",
   "metadata": {},
   "outputs": [
    {
     "name": "stdout",
     "output_type": "stream",
     "text": [
      "x is greater than 10\n",
      "and 30 as well\n"
     ]
    }
   ],
   "source": [
    "#nested if\n",
    "x =35\n",
    "if x>10:\n",
    "    print('x is greater than 10')\n",
    "    if x<30:\n",
    "        print('x is less than 30')\n",
    "    else:\n",
    "        print(\"and 30 as well\")"
   ]
  },
  {
   "cell_type": "code",
   "execution_count": 6,
   "id": "7e4354d7-8255-4b6d-bbb8-1b8bfa333b56",
   "metadata": {},
   "outputs": [
    {
     "name": "stdout",
     "output_type": "stream",
     "text": [
      "0\n",
      "1\n",
      "2\n",
      "3\n",
      "4\n"
     ]
    }
   ],
   "source": [
    "#while loop\n",
    "x=0\n",
    "while x<5:\n",
    "    print(x)\n",
    "    x+=1"
   ]
  },
  {
   "cell_type": "code",
   "execution_count": 8,
   "id": "b3da19bf-7e52-4692-acfc-d5ee43fd4c1c",
   "metadata": {},
   "outputs": [
    {
     "name": "stdout",
     "output_type": "stream",
     "text": [
      "0\n",
      "1\n",
      "2\n",
      "3\n"
     ]
    }
   ],
   "source": [
    "#break statement\n",
    "x=0\n",
    "while x<5:\n",
    "    print(x)\n",
    "    x+=1\n",
    "    if x==4:\n",
    "        break"
   ]
  },
  {
   "cell_type": "code",
   "execution_count": 17,
   "id": "65317dda-b338-4145-b7b2-1655db34a56a",
   "metadata": {
    "scrolled": true
   },
   "outputs": [
    {
     "name": "stdout",
     "output_type": "stream",
     "text": [
      "1\n",
      "2\n",
      "4\n",
      "5\n",
      "6\n",
      "7\n",
      "8\n",
      "9\n",
      "10\n"
     ]
    }
   ],
   "source": [
    "#continue statement\n",
    "x=0\n",
    "while x<10:\n",
    "    x+=1\n",
    "    if x==3:\n",
    "        continue\n",
    "    print(x)"
   ]
  },
  {
   "cell_type": "code",
   "execution_count": 19,
   "id": "493680c7-6582-40c7-9b30-da7363f2a4f3",
   "metadata": {},
   "outputs": [
    {
     "name": "stdout",
     "output_type": "stream",
     "text": [
      "1\n",
      "2\n",
      "3\n"
     ]
    }
   ],
   "source": [
    "#for loop (a list)\n",
    "num=[1,2,3]\n",
    "for i in num:\n",
    "    print(i)"
   ]
  },
  {
   "cell_type": "code",
   "execution_count": 25,
   "id": "ed5412db-5ed6-4d10-9376-721cfe80c3d5",
   "metadata": {},
   "outputs": [
    {
     "name": "stdout",
     "output_type": "stream",
     "text": [
      "t\n",
      "i\n",
      "g\n",
      "e\n",
      "r\n",
      "grape"
     ]
    }
   ],
   "source": [
    "#for loop (a string)\n",
    "for t in \"tiger\":\n",
    "    print(t)\n",
    "for g in \"grape\":\n",
    "    print(g,end='')"
   ]
  },
  {
   "cell_type": "code",
   "execution_count": 27,
   "id": "54933c05-175f-4b0a-a14e-66435adfd8b0",
   "metadata": {},
   "outputs": [
    {
     "name": "stdout",
     "output_type": "stream",
     "text": [
      "0\n",
      "1\n",
      "2\n",
      "3\n",
      "4\n",
      "5\n",
      "6\n"
     ]
    }
   ],
   "source": [
    "#range function for 1 argument \n",
    "for i in range(7):# 1st number is o by default and increments by 1\n",
    "    print(i)"
   ]
  },
  {
   "cell_type": "code",
   "execution_count": 29,
   "id": "162dd059-41d0-4643-b8b6-53eefac96953",
   "metadata": {},
   "outputs": [
    {
     "name": "stdout",
     "output_type": "stream",
     "text": [
      "6\n",
      "7\n",
      "8\n"
     ]
    }
   ],
   "source": [
    "#range function with 2 arguments\n",
    "for i in range(6,9): #skips the second argument and prints the first argument\n",
    "    print(i)\n"
   ]
  },
  {
   "cell_type": "code",
   "execution_count": 33,
   "id": "49a034ec-db04-4b89-800a-65d7c171b482",
   "metadata": {},
   "outputs": [
    {
     "name": "stdout",
     "output_type": "stream",
     "text": [
      "1\n",
      "3\n",
      "5\n"
     ]
    }
   ],
   "source": [
    "#range function with 3 arguments\n",
    "for i in range(1,6,2): # starts with first argument,one less than second argument and increments by third argument\n",
    "    print(i)"
   ]
  },
  {
   "cell_type": "code",
   "execution_count": 35,
   "id": "4d5c1097-0a37-4470-9cc9-8fec49fa59e1",
   "metadata": {},
   "outputs": [
    {
     "name": "stdout",
     "output_type": "stream",
     "text": [
      "math 9\n",
      "math 12\n",
      "math 6\n",
      "science 9\n",
      "science 12\n",
      "science 6\n",
      "nepali 9\n",
      "nepali 12\n",
      "nepali 6\n"
     ]
    }
   ],
   "source": [
    "#Nested Loop\n",
    "subjects=['math','science','nepali']\n",
    "time=[9,12,6]\n",
    "for i in subjects:\n",
    "    for j in time:\n",
    "        print(i,j)"
   ]
  },
  {
   "cell_type": "code",
   "execution_count": 14,
   "id": "5ed6098f-5b8b-423f-8595-21b68b1b8ca7",
   "metadata": {},
   "outputs": [
    {
     "ename": "TypeError",
     "evalue": "multiply() missing 1 required positional argument: 'y'",
     "output_type": "error",
     "traceback": [
      "\u001b[1;31m---------------------------------------------------------------------------\u001b[0m",
      "\u001b[1;31mTypeError\u001b[0m                                 Traceback (most recent call last)",
      "Cell \u001b[1;32mIn[14], line 5\u001b[0m\n\u001b[0;32m      3\u001b[0m     \u001b[38;5;28;01mreturn\u001b[39;00m x\u001b[38;5;241m*\u001b[39my \u001b[38;5;66;03m#function returns the sum of x and y\u001b[39;00m\n\u001b[0;32m      4\u001b[0m multiply(\u001b[38;5;241m45\u001b[39m,\u001b[38;5;241m68\u001b[39m)\n\u001b[1;32m----> 5\u001b[0m \u001b[43mmultiply\u001b[49m\u001b[43m(\u001b[49m\u001b[38;5;241;43m2\u001b[39;49m\u001b[43m)\u001b[49m\u001b[38;5;66;03m# error when passing 1 argument when 2 parameters are defined inside the multiply function\u001b[39;00m\n\u001b[0;32m      6\u001b[0m multiply(\u001b[38;5;241m1\u001b[39m,\u001b[38;5;241m2\u001b[39m,\u001b[38;5;241m3\u001b[39m) \u001b[38;5;66;03m#error when passing 3 arguments when 2 parameters are defined inside the multiply function\u001b[39;00m\n\u001b[0;32m      7\u001b[0m \u001b[38;5;28;01mdef\u001b[39;00m \u001b[38;5;21msub\u001b[39m(x,y):\n",
      "\u001b[1;31mTypeError\u001b[0m: multiply() missing 1 required positional argument: 'y'"
     ]
    }
   ],
   "source": [
    "#Python Functions\n",
    "def multiply(x,y):#def is a keyword to create a function name multiply,x&y are parameters\n",
    "    return x*y #function returns the sum of x and y\n",
    "multiply(45,68)\n",
    "multiply(2)# error when passing 1 argument when 2 parameters are defined inside the multiply function\n",
    "multiply(1,2,3) #error when passing 3 arguments when 2 parameters are defined inside the multiply function\n",
    "def sub(x,y):\n",
    "    return x-y\n",
    "sub(2,3)"
   ]
  },
  {
   "cell_type": "code",
   "execution_count": 1,
   "id": "f998c057-2df8-4a96-8887-c796ec90795b",
   "metadata": {},
   "outputs": [
    {
     "name": "stdout",
     "output_type": "stream",
     "text": [
      "29\n"
     ]
    }
   ],
   "source": [
    "#arbitrary arguments\n",
    "def add(*nums):\n",
    "    total = 0\n",
    "    for i in nums:\n",
    "        total += i\n",
    "    return total\n",
    "\n",
    "result = add(1, 2, 3, 23)\n",
    "print(result)  \n"
   ]
  },
  {
   "cell_type": "code",
   "execution_count": 10,
   "id": "12c5d397-4ce1-41af-b36b-b8f62e3760de",
   "metadata": {},
   "outputs": [
    {
     "ename": "SyntaxError",
     "evalue": "parameter without a default follows parameter with a default (3608249900.py, line 5)",
     "output_type": "error",
     "traceback": [
      "\u001b[1;36m  Cell \u001b[1;32mIn[10], line 5\u001b[1;36m\u001b[0m\n\u001b[1;33m    def subtract(z=3,c):\u001b[0m\n\u001b[1;37m                     ^\u001b[0m\n\u001b[1;31mSyntaxError\u001b[0m\u001b[1;31m:\u001b[0m parameter without a default follows parameter with a default\n"
     ]
    }
   ],
   "source": [
    "#default parameter value\n",
    "def multiply(x,y=3):\n",
    "    return x*y\n",
    "multiply(4) #default parameter y=3,argument value of x =4\n",
    "def subtract(z=3,c):\n",
    "    return z-c\n",
    "subtract(4) # returns error,as 4 is assumed to be default value of z"
   ]
  },
  {
   "cell_type": "code",
   "execution_count": 12,
   "id": "d8b197de-edf1-4736-8824-3162c79ca7af",
   "metadata": {},
   "outputs": [
    {
     "data": {
      "text/plain": [
       "15"
      ]
     },
     "execution_count": 12,
     "metadata": {},
     "output_type": "execute_result"
    }
   ],
   "source": [
    "#Lambda functions\n",
    "sum = lambda x,y,z:x+y+z\n",
    "sum(2,5,8)"
   ]
  },
  {
   "cell_type": "code",
   "execution_count": 27,
   "id": "3b879bd3-a914-411c-ae10-09289a24aee3",
   "metadata": {},
   "outputs": [
    {
     "name": "stdout",
     "output_type": "stream",
     "text": [
      "Hi\n",
      "There\n",
      "my_tuple[1] = world\n",
      "my_tuple[1:3] = ('world', 1)\n"
     ]
    },
    {
     "ename": "NameError",
     "evalue": "name 'd' is not defined",
     "output_type": "error",
     "traceback": [
      "\u001b[1;31m---------------------------------------------------------------------------\u001b[0m",
      "\u001b[1;31mNameError\u001b[0m                                 Traceback (most recent call last)",
      "Cell \u001b[1;32mIn[27], line 20\u001b[0m\n\u001b[0;32m     18\u001b[0m d\u001b[38;5;241m=\u001b[39m(\u001b[38;5;241m1\u001b[39m,\u001b[38;5;241m2\u001b[39m,\u001b[38;5;241m3\u001b[39m)\n\u001b[0;32m     19\u001b[0m \u001b[38;5;28;01mdel\u001b[39;00m d \u001b[38;5;66;03m#deleted tuple d will del keyword\u001b[39;00m\n\u001b[1;32m---> 20\u001b[0m \u001b[43md\u001b[49m\n",
      "\u001b[1;31mNameError\u001b[0m: name 'd' is not defined"
     ]
    }
   ],
   "source": [
    "#Python Tuples\n",
    "my_tuple=('Hi','There',2,3)\n",
    "my_tuple\n",
    "#Index in Tuple\n",
    "print(my_tuple[0])\n",
    "print(my_tuple[1])\n",
    "sd=(1,2,3,1)\n",
    "sd\n",
    "len(sd) #length of tuple sd\n",
    "de=('Hello')\n",
    "type(de) #type of tuple is string as there is only element that too no coma at last\n",
    "er=('Hi',)\n",
    "type(er) # coma at last of element in tuple gives type tuple\n",
    "my_tuple=('Hello', 'world',1,2)\n",
    "print(\"my_tuple[1] =\",my_tuple[1]) #prints 2nd item of tuple\n",
    "print(\"my_tuple[1:3] =\",my_tuple[1:3]) # print at index 1(second element) to index 2(third element)\n",
    "#delete tuples\n",
    "d=(1,2,3)\n",
    "del d #deleted tuple d will del keyword\n",
    "d\n",
    "\n",
    "\n",
    "\n"
   ]
  },
  {
   "cell_type": "code",
   "execution_count": 38,
   "id": "da8e9dec-db1b-4440-bcea-e3da055f8c6c",
   "metadata": {},
   "outputs": [
    {
     "name": "stdout",
     "output_type": "stream",
     "text": [
      "1\n",
      "2\n",
      "3\n",
      "123\n"
     ]
    },
    {
     "data": {
      "text/plain": [
       "(1, 2, 3, 1, 2, 3, 1, 2, 3)"
      ]
     },
     "execution_count": 38,
     "metadata": {},
     "output_type": "execute_result"
    }
   ],
   "source": [
    "s1,s2,s3 = ('1','2','3') #unpack tuples\n",
    "print (s1)\n",
    "print(s2)\n",
    "print(s3)\n",
    "print(s1+s2+s3) #join tuples using +operator\n",
    "(1,2,3)*3 # multiply tuple with * operator"
   ]
  },
  {
   "cell_type": "code",
   "execution_count": 34,
   "id": "2c0c6406-68de-4f06-9b15-ec7272315290",
   "metadata": {},
   "outputs": [
    {
     "name": "stdout",
     "output_type": "stream",
     "text": [
      "i\n",
      "love\n",
      "python\n"
     ]
    }
   ],
   "source": [
    "my_tuple=('i','love','python')\n",
    "for item in my_tuple: #loop through a tuple\n",
    "    print(item)"
   ]
  },
  {
   "cell_type": "code",
   "execution_count": 2,
   "id": "d5691a80-2d60-4273-b9ff-050544944cc7",
   "metadata": {},
   "outputs": [
    {
     "name": "stdout",
     "output_type": "stream",
     "text": [
      "(1, 2, 3, 2, 3, 4)\n",
      "(1, 2, 3, 2, 3, 4, 4, 5, 6)\n"
     ]
    }
   ],
   "source": [
    "tuple_1=(1,2,3)\n",
    "tuple_2=(2,3,4)\n",
    "tuple_3=(4,5,6)\n",
    "print(tuple_1+tuple_2) #join tuples\n",
    "print(tuple_1+tuple_2+tuple_3) #join tuples"
   ]
  },
  {
   "cell_type": "code",
   "execution_count": 4,
   "id": "7b42cce8-865b-46da-a890-222628dab8ff",
   "metadata": {},
   "outputs": [
    {
     "data": {
      "text/plain": [
       "(1, 2, 3, 1, 2, 3, 1, 2, 3)"
      ]
     },
     "execution_count": 4,
     "metadata": {},
     "output_type": "execute_result"
    }
   ],
   "source": [
    "(1,2,3)*3 #multiply tuples"
   ]
  },
  {
   "cell_type": "code",
   "execution_count": 6,
   "id": "6c22d8ef-d0f1-4c97-9a65-459879bcd1e9",
   "metadata": {},
   "outputs": [
    {
     "data": {
      "text/plain": [
       "{0.5, 2, 3, 'hi'}"
      ]
     },
     "execution_count": 6,
     "metadata": {},
     "output_type": "execute_result"
    }
   ],
   "source": [
    "#Sets\n",
    "x={2,3,'hi',0.5}\n",
    "x"
   ]
  },
  {
   "cell_type": "code",
   "execution_count": 11,
   "id": "f1ef765a-9091-4d91-9ca6-2ef48414e278",
   "metadata": {},
   "outputs": [
    {
     "data": {
      "text/plain": [
       "{1, 2, 3, 'hi', 'there'}"
      ]
     },
     "execution_count": 11,
     "metadata": {},
     "output_type": "execute_result"
    }
   ],
   "source": [
    "y={1,1,2,3, \"hi\", \"there\"} #duplicate values are not printed in sets\n",
    "y\n"
   ]
  },
  {
   "cell_type": "code",
   "execution_count": 13,
   "id": "829a5fba-7f00-4beb-b56c-90fa88053328",
   "metadata": {},
   "outputs": [
    {
     "data": {
      "text/plain": [
       "5"
      ]
     },
     "execution_count": 13,
     "metadata": {},
     "output_type": "execute_result"
    }
   ],
   "source": [
    "len(y) #length of set"
   ]
  },
  {
   "cell_type": "code",
   "execution_count": 17,
   "id": "035d2281-b0ae-4de1-b215-810e005dcab7",
   "metadata": {},
   "outputs": [
    {
     "name": "stdout",
     "output_type": "stream",
     "text": [
      "1\n",
      "2\n",
      "3\n",
      "hi\n",
      "there\n"
     ]
    }
   ],
   "source": [
    "for i in y:\n",
    "    print (i) #access set items using for loop and in membership operator"
   ]
  },
  {
   "cell_type": "code",
   "execution_count": 20,
   "id": "7f68139c-7bb7-4413-b14f-2437f6dbe1e5",
   "metadata": {},
   "outputs": [
    {
     "data": {
      "text/plain": [
       "True"
      ]
     },
     "execution_count": 20,
     "metadata": {},
     "output_type": "execute_result"
    }
   ],
   "source": [
    "1 in y #check if condition is satisfied"
   ]
  },
  {
   "cell_type": "code",
   "execution_count": 29,
   "id": "71ab6f57-b11e-4ca7-8056-4d994d212cd4",
   "metadata": {},
   "outputs": [
    {
     "data": {
      "text/plain": [
       "{1, 2, 3, 'Hi there'}"
      ]
     },
     "execution_count": 29,
     "metadata": {},
     "output_type": "execute_result"
    }
   ],
   "source": [
    "x={1,2,3}\n",
    "x.add(\"Hi there\")  #cannot change set , but can add items in the set\n",
    "x                  "
   ]
  },
  {
   "cell_type": "code",
   "execution_count": 31,
   "id": "7f4b133e-f763-48e0-b9dd-d4f6bd875b2f",
   "metadata": {},
   "outputs": [
    {
     "data": {
      "text/plain": [
       "{1, 2, 3, 'Hi there', 'aakash', 'am', 'i'}"
      ]
     },
     "execution_count": 31,
     "metadata": {},
     "output_type": "execute_result"
    }
   ],
   "source": [
    "y={'i','am','aakash'}\n",
    "x.update(y)      #add two sets using update() method\n",
    "x"
   ]
  },
  {
   "cell_type": "code",
   "execution_count": 37,
   "id": "6a35644e-490f-43a2-a117-b02166fff6a4",
   "metadata": {},
   "outputs": [
    {
     "data": {
      "text/plain": [
       "{' there', 1, 2, 3, 'hi'}"
      ]
     },
     "execution_count": 37,
     "metadata": {},
     "output_type": "execute_result"
    }
   ],
   "source": [
    "x={1,2,3} #set\n",
    "y=['hi',' there'] #list\n",
    "x.update(y) #add set and list\n",
    "x"
   ]
  },
  {
   "cell_type": "code",
   "execution_count": 39,
   "id": "6ec5569a-60a4-4152-bc5f-1d3c1c523a3c",
   "metadata": {},
   "outputs": [
    {
     "data": {
      "text/plain": [
       "{1, 2, 3, 4, 5}"
      ]
     },
     "execution_count": 39,
     "metadata": {},
     "output_type": "execute_result"
    }
   ],
   "source": [
    "x={1,2,3} #set\n",
    "y=(3,4,5)  #tuple\n",
    "x.update(y) #add set and tuple\n",
    "x"
   ]
  },
  {
   "cell_type": "code",
   "execution_count": 41,
   "id": "308b3b62-f2fd-4b20-88f9-016ee72ddeb8",
   "metadata": {},
   "outputs": [
    {
     "data": {
      "text/plain": [
       "{'ktm': 145, 'jnk': 40, 'bdr': 42}"
      ]
     },
     "execution_count": 41,
     "metadata": {},
     "output_type": "execute_result"
    }
   ],
   "source": [
    "#Python Dictionary\n",
    "city={'ktm':145,'jnk':40,'bdr':42}\n",
    "city"
   ]
  },
  {
   "cell_type": "code",
   "execution_count": 43,
   "id": "834fd623-5e50-4c22-843c-2f0078a6880a",
   "metadata": {},
   "outputs": [
    {
     "data": {
      "text/plain": [
       "145"
      ]
     },
     "execution_count": 43,
     "metadata": {},
     "output_type": "execute_result"
    }
   ],
   "source": [
    "city[\"ktm\"] #accessing any value of dictionary"
   ]
  },
  {
   "cell_type": "code",
   "execution_count": 46,
   "id": "6ee8c724-58e8-4534-b4d2-d2c00d3835f1",
   "metadata": {},
   "outputs": [
    {
     "data": {
      "text/plain": [
       "40"
      ]
     },
     "execution_count": 46,
     "metadata": {},
     "output_type": "execute_result"
    }
   ],
   "source": [
    "city.get('jnk') #using get() method to access value of dictionary"
   ]
  },
  {
   "cell_type": "code",
   "execution_count": 48,
   "id": "56ab42c7-6d5b-4603-8af4-cb197f302440",
   "metadata": {},
   "outputs": [
    {
     "data": {
      "text/plain": [
       "dict_keys(['ktm', 'jnk', 'bdr'])"
      ]
     },
     "execution_count": 48,
     "metadata": {},
     "output_type": "execute_result"
    }
   ],
   "source": [
    "city.keys() # using key() method to get keys of dictionary"
   ]
  },
  {
   "cell_type": "code",
   "execution_count": 50,
   "id": "12c3fdfb-1409-46df-b250-d4699e20f6fd",
   "metadata": {},
   "outputs": [
    {
     "data": {
      "text/plain": [
       "dict_values([145, 40, 42])"
      ]
     },
     "execution_count": 50,
     "metadata": {},
     "output_type": "execute_result"
    }
   ],
   "source": [
    "city.values() #using values() method to values of dictionary"
   ]
  },
  {
   "cell_type": "code",
   "execution_count": 52,
   "id": "21553924-0dfd-4f25-8846-813eb42ae201",
   "metadata": {},
   "outputs": [
    {
     "data": {
      "text/plain": [
       "dict_items([('ktm', 145), ('jnk', 40), ('bdr', 42)])"
      ]
     },
     "execution_count": 52,
     "metadata": {},
     "output_type": "execute_result"
    }
   ],
   "source": [
    "city.items() #using items() method to get a list of tuples,each tuple containing a pair of keys and values"
   ]
  },
  {
   "cell_type": "code",
   "execution_count": 55,
   "id": "0c3fffe0-f75d-49b8-a8d4-06653254c198",
   "metadata": {},
   "outputs": [
    {
     "data": {
      "text/plain": [
       "True"
      ]
     },
     "execution_count": 55,
     "metadata": {},
     "output_type": "execute_result"
    }
   ],
   "source": [
    "'ktm' in city #check whether a key exists using in keyword"
   ]
  },
  {
   "cell_type": "code",
   "execution_count": 57,
   "id": "a0f4b0e7-8e52-4989-8a04-12f125df0858",
   "metadata": {},
   "outputs": [
    {
     "data": {
      "text/plain": [
       "False"
      ]
     },
     "execution_count": 57,
     "metadata": {},
     "output_type": "execute_result"
    }
   ],
   "source": [
    "'bfg' in city #check whether a key exists using in keyword"
   ]
  },
  {
   "cell_type": "code",
   "execution_count": 61,
   "id": "da1ae0d8-2cf4-4a31-81c2-4d158695dc8d",
   "metadata": {},
   "outputs": [
    {
     "data": {
      "text/plain": [
       "{'ktm': 34, 'jnk': 40, 'bdr': 42}"
      ]
     },
     "execution_count": 61,
     "metadata": {},
     "output_type": "execute_result"
    }
   ],
   "source": [
    "city['ktm']=34 #assigning new value to a key\n",
    "city"
   ]
  },
  {
   "cell_type": "code",
   "execution_count": 65,
   "id": "d269b5ec-21b9-4a38-9d4e-1d2e6fd643be",
   "metadata": {},
   "outputs": [
    {
     "data": {
      "text/plain": [
       "{'ktm': 32, 'jnk': 40, 'bdr': 42}"
      ]
     },
     "execution_count": 65,
     "metadata": {},
     "output_type": "execute_result"
    }
   ],
   "source": [
    "city.update({'ktm':32}) #using update() method to update key\n",
    "city"
   ]
  },
  {
   "cell_type": "code",
   "execution_count": 69,
   "id": "87991716-35d1-4707-95b2-ce0744355df3",
   "metadata": {},
   "outputs": [
    {
     "data": {
      "text/plain": [
       "{'ktm': 32, 'jnk': 40, 'bdr': 42, 'pkh': 28}"
      ]
     },
     "execution_count": 69,
     "metadata": {},
     "output_type": "execute_result"
    }
   ],
   "source": [
    "city['pkh']=28 #adding items in dictionary\n",
    "city"
   ]
  },
  {
   "cell_type": "code",
   "execution_count": 74,
   "id": "621101d2-77a3-4749-b1ab-b2b6993607c6",
   "metadata": {},
   "outputs": [
    {
     "data": {
      "text/plain": [
       "{'ktm': 32, 'jnk': 40, 'bdr': 42, 'pkh': 28, 'rkr': 34}"
      ]
     },
     "execution_count": 74,
     "metadata": {},
     "output_type": "execute_result"
    }
   ],
   "source": [
    "city.update({'rkr':34}) #adding new key-value pair using update method\n",
    "city"
   ]
  },
  {
   "cell_type": "code",
   "execution_count": 79,
   "id": "5c69a28a-2820-4be4-a3d0-e8ee134d8ec0",
   "metadata": {},
   "outputs": [
    {
     "ename": "KeyError",
     "evalue": "'pkh'",
     "output_type": "error",
     "traceback": [
      "\u001b[1;31m---------------------------------------------------------------------------\u001b[0m",
      "\u001b[1;31mKeyError\u001b[0m                                  Traceback (most recent call last)",
      "Cell \u001b[1;32mIn[79], line 1\u001b[0m\n\u001b[1;32m----> 1\u001b[0m \u001b[43mcity\u001b[49m\u001b[38;5;241;43m.\u001b[39;49m\u001b[43mpop\u001b[49m\u001b[43m(\u001b[49m\u001b[38;5;124;43m'\u001b[39;49m\u001b[38;5;124;43mpkh\u001b[39;49m\u001b[38;5;124;43m'\u001b[39;49m\u001b[43m)\u001b[49m \u001b[38;5;66;03m#using pop() method to remove a key:value pair from dictionary\u001b[39;00m\n\u001b[0;32m      2\u001b[0m city\n",
      "\u001b[1;31mKeyError\u001b[0m: 'pkh'"
     ]
    }
   ],
   "source": [
    "city.pop('pkh') #using pop() method to remove a key:value pair from dictionary\n",
    "city"
   ]
  },
  {
   "cell_type": "code",
   "execution_count": 82,
   "id": "c71f7eaf-d152-486c-96ad-f1529dd51369",
   "metadata": {},
   "outputs": [
    {
     "ename": "KeyError",
     "evalue": "'bdr'",
     "output_type": "error",
     "traceback": [
      "\u001b[1;31m---------------------------------------------------------------------------\u001b[0m",
      "\u001b[1;31mKeyError\u001b[0m                                  Traceback (most recent call last)",
      "Cell \u001b[1;32mIn[82], line 1\u001b[0m\n\u001b[1;32m----> 1\u001b[0m \u001b[38;5;28;01mdel\u001b[39;00m \u001b[43mcity\u001b[49m\u001b[43m[\u001b[49m\u001b[38;5;124;43m'\u001b[39;49m\u001b[38;5;124;43mbdr\u001b[39;49m\u001b[38;5;124;43m'\u001b[39;49m\u001b[43m]\u001b[49m \u001b[38;5;66;03m# using del keyword to delete a specified key value pair\u001b[39;00m\n\u001b[0;32m      2\u001b[0m city\n",
      "\u001b[1;31mKeyError\u001b[0m: 'bdr'"
     ]
    }
   ],
   "source": [
    "del city['bdr'] # using del keyword to delete a specified key value pair\n",
    "city"
   ]
  },
  {
   "cell_type": "code",
   "execution_count": 85,
   "id": "6c998be0-5dd5-4b52-ae35-573aa94844a2",
   "metadata": {},
   "outputs": [
    {
     "data": {
      "text/plain": [
       "{}"
      ]
     },
     "execution_count": 85,
     "metadata": {},
     "output_type": "execute_result"
    }
   ],
   "source": [
    "city.clear() # using  clear() method to delete all items in the dictionary\n",
    "city"
   ]
  },
  {
   "cell_type": "code",
   "execution_count": 87,
   "id": "dda4c5be-6e65-4b16-8ce2-1abd83ca025f",
   "metadata": {},
   "outputs": [
    {
     "ename": "NameError",
     "evalue": "name 'city' is not defined",
     "output_type": "error",
     "traceback": [
      "\u001b[1;31m---------------------------------------------------------------------------\u001b[0m",
      "\u001b[1;31mNameError\u001b[0m                                 Traceback (most recent call last)",
      "Cell \u001b[1;32mIn[87], line 1\u001b[0m\n\u001b[1;32m----> 1\u001b[0m \u001b[38;5;28;01mdel\u001b[39;00m \u001b[43mcity\u001b[49m\n\u001b[0;32m      2\u001b[0m city\n",
      "\u001b[1;31mNameError\u001b[0m: name 'city' is not defined"
     ]
    }
   ],
   "source": [
    "del city # using del keyword to delete city dictionary from memory\n",
    "city"
   ]
  },
  {
   "cell_type": "code",
   "execution_count": null,
   "id": "5dd026b1-399f-4deb-bcac-67ac33e3b421",
   "metadata": {},
   "outputs": [],
   "source": []
  },
  {
   "cell_type": "code",
   "execution_count": null,
   "id": "b20ab3c4-a4c0-44a9-ba68-48e1627d9046",
   "metadata": {},
   "outputs": [],
   "source": []
  },
  {
   "cell_type": "code",
   "execution_count": null,
   "id": "5bd93819-64ec-4360-b78c-d4d344fc114f",
   "metadata": {},
   "outputs": [],
   "source": []
  }
 ],
 "metadata": {
  "kernelspec": {
   "display_name": "Python 3 (ipykernel)",
   "language": "python",
   "name": "python3"
  },
  "language_info": {
   "codemirror_mode": {
    "name": "ipython",
    "version": 3
   },
   "file_extension": ".py",
   "mimetype": "text/x-python",
   "name": "python",
   "nbconvert_exporter": "python",
   "pygments_lexer": "ipython3",
   "version": "3.12.3"
  }
 },
 "nbformat": 4,
 "nbformat_minor": 5
}
