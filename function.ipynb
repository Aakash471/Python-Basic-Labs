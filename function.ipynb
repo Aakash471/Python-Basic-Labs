{
 "cells": [
  {
   "cell_type": "code",
   "execution_count": 1,
   "id": "43dd5e40-3fb2-4006-9163-f93701096f3f",
   "metadata": {},
   "outputs": [
    {
     "name": "stdout",
     "output_type": "stream",
     "text": [
      "send email only\n"
     ]
    }
   ],
   "source": [
    "def send_email(num_visits,visits_email,visits_coupon):\n",
    "    if num_visits >= visits_coupon:\n",
    "        print(\"send email with coupon\")\n",
    "    elif num_visits>=visits_email:\n",
    "        print(\"send email only\")\n",
    "    else:\n",
    "        print(\"not enough visits\")\n",
    "send_email(10,5,13)\n",
    "    \n"
   ]
  },
  {
   "cell_type": "code",
   "execution_count": 2,
   "id": "a5435b3b-9014-4f7c-ad19-bd06602abffd",
   "metadata": {},
   "outputs": [
    {
     "name": "stdout",
     "output_type": "stream",
     "text": [
      "not enough visits\n"
     ]
    }
   ],
   "source": [
    "def send_email(num_visits,visits_email):\n",
    "    if num_visits>=visits_email:\n",
    "        print(\"send mail\")\n",
    "    else:\n",
    "        print(\"not enough visits\")\n",
    "send_email(3,5)"
   ]
  },
  {
   "cell_type": "code",
   "execution_count": null,
   "id": "d576eb64-1623-4d29-82a2-dac8e11a7d55",
   "metadata": {},
   "outputs": [],
   "source": []
  }
 ],
 "metadata": {
  "kernelspec": {
   "display_name": "Python 3 (ipykernel)",
   "language": "python",
   "name": "python3"
  },
  "language_info": {
   "codemirror_mode": {
    "name": "ipython",
    "version": 3
   },
   "file_extension": ".py",
   "mimetype": "text/x-python",
   "name": "python",
   "nbconvert_exporter": "python",
   "pygments_lexer": "ipython3",
   "version": "3.12.3"
  }
 },
 "nbformat": 4,
 "nbformat_minor": 5
}
